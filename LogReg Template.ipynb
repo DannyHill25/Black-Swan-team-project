{
 "cells": [
  {
   "cell_type": "markdown",
   "id": "3c9a7879-80ae-4f12-8b1d-bbf307abc698",
   "metadata": {
    "jp-MarkdownHeadingCollapsed": true,
    "tags": []
   },
   "source": [
    "## Pre-screening"
   ]
  },
  {
   "cell_type": "code",
   "execution_count": null,
   "id": "d401a925-45c3-4069-8df0-7f846437415c",
   "metadata": {},
   "outputs": [],
   "source": [
    "import numpy as np\n",
    "import seaborn as sns\n",
    "import matplotlib.pyplot as plt\n",
    "import pandas as pd\n",
    "\n",
    "from sklearn import metrics\n",
    "from time import time\n",
    "\n",
    "from sklearn.tree import DecisionTreeClassifier\n",
    "from sklearn import tree\n",
    "from sklearn.model_selection import train_test_split\n",
    "from sklearn.model_selection import GridSearchCV\n",
    "from sklearn.metrics import (confusion_matrix, accuracy_score)"
   ]
  },
  {
   "cell_type": "code",
   "execution_count": 2,
   "id": "2a10c662-5e7e-4533-abd8-36680e2805c5",
   "metadata": {},
   "outputs": [],
   "source": [
    "customers = pd.read_csv('1 - Project Data.csv')"
   ]
  },
  {
   "cell_type": "markdown",
   "id": "cd67bd6a-5978-49e3-a15a-abacd2f71cb5",
   "metadata": {},
   "source": [
    "#### Data Inspection\n",
    "- I'm assuming Churn Value is our label\n",
    "    - If they did leave 1, didn't 0\n",
    "- What needs to be changed?\n",
    "    - Country\n",
    "    - State\n",
    "    - City\n",
    "    - Zip Code?\n",
    "    - Geographic info\n",
    "    - Gender (map binary - any non-binary gender data?)\n",
    "    - Streaming TV (map binary)\n",
    "    - Streaming Movies (map binary)\n",
    "    - Payment method (OHE)\n",
    "    - Churn Label (drop), we already have churn value\n",
    "        - Is churn value binary?\n",
    "    - Churn reason?\n",
    "        - Nulls, drop after encoding"
   ]
  },
  {
   "cell_type": "code",
   "execution_count": 11,
   "id": "da37f176-5082-4773-9ae7-07ed26fbb8e7",
   "metadata": {},
   "outputs": [
    {
     "data": {
      "text/html": [
       "<div>\n",
       "<style scoped>\n",
       "    .dataframe tbody tr th:only-of-type {\n",
       "        vertical-align: middle;\n",
       "    }\n",
       "\n",
       "    .dataframe tbody tr th {\n",
       "        vertical-align: top;\n",
       "    }\n",
       "\n",
       "    .dataframe thead th {\n",
       "        text-align: right;\n",
       "    }\n",
       "</style>\n",
       "<table border=\"1\" class=\"dataframe\">\n",
       "  <thead>\n",
       "    <tr style=\"text-align: right;\">\n",
       "      <th></th>\n",
       "      <th>CustomerID</th>\n",
       "      <th>Count</th>\n",
       "      <th>Country</th>\n",
       "      <th>State</th>\n",
       "      <th>City</th>\n",
       "      <th>Zip Code</th>\n",
       "      <th>Lat Long</th>\n",
       "      <th>Latitude</th>\n",
       "      <th>Longitude</th>\n",
       "      <th>Gender</th>\n",
       "      <th>...</th>\n",
       "      <th>Streaming TV</th>\n",
       "      <th>Streaming Movies</th>\n",
       "      <th>Contract</th>\n",
       "      <th>Paperless Billing</th>\n",
       "      <th>Payment Method</th>\n",
       "      <th>Monthly Charges</th>\n",
       "      <th>Total Charges</th>\n",
       "      <th>Churn Label</th>\n",
       "      <th>Churn Value</th>\n",
       "      <th>Churn Reason</th>\n",
       "    </tr>\n",
       "  </thead>\n",
       "  <tbody>\n",
       "    <tr>\n",
       "      <th>0</th>\n",
       "      <td>3668-QPYBK</td>\n",
       "      <td>1</td>\n",
       "      <td>United States</td>\n",
       "      <td>California</td>\n",
       "      <td>Los Angeles</td>\n",
       "      <td>90003</td>\n",
       "      <td>33.964131, -118.272783</td>\n",
       "      <td>33.964131</td>\n",
       "      <td>-118.272783</td>\n",
       "      <td>Male</td>\n",
       "      <td>...</td>\n",
       "      <td>No</td>\n",
       "      <td>No</td>\n",
       "      <td>Month-to-month</td>\n",
       "      <td>Yes</td>\n",
       "      <td>Mailed check</td>\n",
       "      <td>53.85</td>\n",
       "      <td>108.15</td>\n",
       "      <td>Yes</td>\n",
       "      <td>1</td>\n",
       "      <td>Competitor made better offer</td>\n",
       "    </tr>\n",
       "    <tr>\n",
       "      <th>1</th>\n",
       "      <td>9237-HQITU</td>\n",
       "      <td>1</td>\n",
       "      <td>United States</td>\n",
       "      <td>California</td>\n",
       "      <td>Los Angeles</td>\n",
       "      <td>90005</td>\n",
       "      <td>34.059281, -118.30742</td>\n",
       "      <td>34.059281</td>\n",
       "      <td>-118.307420</td>\n",
       "      <td>Female</td>\n",
       "      <td>...</td>\n",
       "      <td>No</td>\n",
       "      <td>No</td>\n",
       "      <td>Month-to-month</td>\n",
       "      <td>Yes</td>\n",
       "      <td>Electronic check</td>\n",
       "      <td>70.70</td>\n",
       "      <td>151.65</td>\n",
       "      <td>Yes</td>\n",
       "      <td>1</td>\n",
       "      <td>Moved</td>\n",
       "    </tr>\n",
       "    <tr>\n",
       "      <th>2</th>\n",
       "      <td>9305-CDSKC</td>\n",
       "      <td>1</td>\n",
       "      <td>United States</td>\n",
       "      <td>California</td>\n",
       "      <td>Los Angeles</td>\n",
       "      <td>90006</td>\n",
       "      <td>34.048013, -118.293953</td>\n",
       "      <td>34.048013</td>\n",
       "      <td>-118.293953</td>\n",
       "      <td>Female</td>\n",
       "      <td>...</td>\n",
       "      <td>Yes</td>\n",
       "      <td>Yes</td>\n",
       "      <td>Month-to-month</td>\n",
       "      <td>Yes</td>\n",
       "      <td>Electronic check</td>\n",
       "      <td>99.65</td>\n",
       "      <td>820.5</td>\n",
       "      <td>Yes</td>\n",
       "      <td>1</td>\n",
       "      <td>Moved</td>\n",
       "    </tr>\n",
       "    <tr>\n",
       "      <th>3</th>\n",
       "      <td>7892-POOKP</td>\n",
       "      <td>1</td>\n",
       "      <td>United States</td>\n",
       "      <td>California</td>\n",
       "      <td>Los Angeles</td>\n",
       "      <td>90010</td>\n",
       "      <td>34.062125, -118.315709</td>\n",
       "      <td>34.062125</td>\n",
       "      <td>-118.315709</td>\n",
       "      <td>Female</td>\n",
       "      <td>...</td>\n",
       "      <td>Yes</td>\n",
       "      <td>Yes</td>\n",
       "      <td>Month-to-month</td>\n",
       "      <td>Yes</td>\n",
       "      <td>Electronic check</td>\n",
       "      <td>104.80</td>\n",
       "      <td>3046.05</td>\n",
       "      <td>Yes</td>\n",
       "      <td>1</td>\n",
       "      <td>Moved</td>\n",
       "    </tr>\n",
       "    <tr>\n",
       "      <th>4</th>\n",
       "      <td>0280-XJGEX</td>\n",
       "      <td>1</td>\n",
       "      <td>United States</td>\n",
       "      <td>California</td>\n",
       "      <td>Los Angeles</td>\n",
       "      <td>90015</td>\n",
       "      <td>34.039224, -118.266293</td>\n",
       "      <td>34.039224</td>\n",
       "      <td>-118.266293</td>\n",
       "      <td>Male</td>\n",
       "      <td>...</td>\n",
       "      <td>Yes</td>\n",
       "      <td>Yes</td>\n",
       "      <td>Month-to-month</td>\n",
       "      <td>Yes</td>\n",
       "      <td>Bank transfer (automatic)</td>\n",
       "      <td>103.70</td>\n",
       "      <td>5036.3</td>\n",
       "      <td>Yes</td>\n",
       "      <td>1</td>\n",
       "      <td>Competitor had better devices</td>\n",
       "    </tr>\n",
       "  </tbody>\n",
       "</table>\n",
       "<p>5 rows × 31 columns</p>\n",
       "</div>"
      ],
      "text/plain": [
       "   CustomerID  Count        Country       State         City  Zip Code  \\\n",
       "0  3668-QPYBK      1  United States  California  Los Angeles     90003   \n",
       "1  9237-HQITU      1  United States  California  Los Angeles     90005   \n",
       "2  9305-CDSKC      1  United States  California  Los Angeles     90006   \n",
       "3  7892-POOKP      1  United States  California  Los Angeles     90010   \n",
       "4  0280-XJGEX      1  United States  California  Los Angeles     90015   \n",
       "\n",
       "                 Lat Long   Latitude   Longitude  Gender  ... Streaming TV  \\\n",
       "0  33.964131, -118.272783  33.964131 -118.272783    Male  ...           No   \n",
       "1   34.059281, -118.30742  34.059281 -118.307420  Female  ...           No   \n",
       "2  34.048013, -118.293953  34.048013 -118.293953  Female  ...          Yes   \n",
       "3  34.062125, -118.315709  34.062125 -118.315709  Female  ...          Yes   \n",
       "4  34.039224, -118.266293  34.039224 -118.266293    Male  ...          Yes   \n",
       "\n",
       "  Streaming Movies        Contract  Paperless Billing  \\\n",
       "0               No  Month-to-month                Yes   \n",
       "1               No  Month-to-month                Yes   \n",
       "2              Yes  Month-to-month                Yes   \n",
       "3              Yes  Month-to-month                Yes   \n",
       "4              Yes  Month-to-month                Yes   \n",
       "\n",
       "              Payment Method Monthly Charges Total Charges Churn Label  \\\n",
       "0               Mailed check           53.85        108.15         Yes   \n",
       "1           Electronic check           70.70        151.65         Yes   \n",
       "2           Electronic check           99.65         820.5         Yes   \n",
       "3           Electronic check          104.80       3046.05         Yes   \n",
       "4  Bank transfer (automatic)          103.70        5036.3         Yes   \n",
       "\n",
       "  Churn Value                   Churn Reason  \n",
       "0           1   Competitor made better offer  \n",
       "1           1                          Moved  \n",
       "2           1                          Moved  \n",
       "3           1                          Moved  \n",
       "4           1  Competitor had better devices  \n",
       "\n",
       "[5 rows x 31 columns]"
      ]
     },
     "execution_count": 11,
     "metadata": {},
     "output_type": "execute_result"
    }
   ],
   "source": [
    "customers.head()"
   ]
  },
  {
   "cell_type": "code",
   "execution_count": 12,
   "id": "ca41696a-267f-44b4-9ecf-01b26c4aeba9",
   "metadata": {},
   "outputs": [
    {
     "data": {
      "text/plain": [
       "1652"
      ]
     },
     "execution_count": 12,
     "metadata": {},
     "output_type": "execute_result"
    }
   ],
   "source": [
    "len(customers['Zip Code'].unique())"
   ]
  },
  {
   "cell_type": "code",
   "execution_count": 23,
   "id": "32188e47-903e-4163-b574-abe8ebe44fd9",
   "metadata": {},
   "outputs": [],
   "source": [
    "group = customers.groupby(['City'])['Zip Code'].nunique()"
   ]
  },
  {
   "cell_type": "code",
   "execution_count": 24,
   "id": "504188e7-b7a1-4928-aa51-4c2281d477a1",
   "metadata": {},
   "outputs": [],
   "source": [
    "zipcodes = group.reset_index()"
   ]
  },
  {
   "cell_type": "code",
   "execution_count": 25,
   "id": "334d826e-3f51-4bd6-a635-578512433050",
   "metadata": {},
   "outputs": [
    {
     "data": {
      "text/html": [
       "<div>\n",
       "<style scoped>\n",
       "    .dataframe tbody tr th:only-of-type {\n",
       "        vertical-align: middle;\n",
       "    }\n",
       "\n",
       "    .dataframe tbody tr th {\n",
       "        vertical-align: top;\n",
       "    }\n",
       "\n",
       "    .dataframe thead th {\n",
       "        text-align: right;\n",
       "    }\n",
       "</style>\n",
       "<table border=\"1\" class=\"dataframe\">\n",
       "  <thead>\n",
       "    <tr style=\"text-align: right;\">\n",
       "      <th></th>\n",
       "      <th>City</th>\n",
       "      <th>Zip Code</th>\n",
       "    </tr>\n",
       "  </thead>\n",
       "  <tbody>\n",
       "    <tr>\n",
       "      <th>0</th>\n",
       "      <td>Acampo</td>\n",
       "      <td>1</td>\n",
       "    </tr>\n",
       "    <tr>\n",
       "      <th>1</th>\n",
       "      <td>Acton</td>\n",
       "      <td>1</td>\n",
       "    </tr>\n",
       "    <tr>\n",
       "      <th>2</th>\n",
       "      <td>Adelanto</td>\n",
       "      <td>1</td>\n",
       "    </tr>\n",
       "    <tr>\n",
       "      <th>3</th>\n",
       "      <td>Adin</td>\n",
       "      <td>1</td>\n",
       "    </tr>\n",
       "    <tr>\n",
       "      <th>4</th>\n",
       "      <td>Agoura Hills</td>\n",
       "      <td>1</td>\n",
       "    </tr>\n",
       "    <tr>\n",
       "      <th>...</th>\n",
       "      <td>...</td>\n",
       "      <td>...</td>\n",
       "    </tr>\n",
       "    <tr>\n",
       "      <th>1124</th>\n",
       "      <td>Yreka</td>\n",
       "      <td>1</td>\n",
       "    </tr>\n",
       "    <tr>\n",
       "      <th>1125</th>\n",
       "      <td>Yuba City</td>\n",
       "      <td>2</td>\n",
       "    </tr>\n",
       "    <tr>\n",
       "      <th>1126</th>\n",
       "      <td>Yucaipa</td>\n",
       "      <td>1</td>\n",
       "    </tr>\n",
       "    <tr>\n",
       "      <th>1127</th>\n",
       "      <td>Yucca Valley</td>\n",
       "      <td>1</td>\n",
       "    </tr>\n",
       "    <tr>\n",
       "      <th>1128</th>\n",
       "      <td>Zenia</td>\n",
       "      <td>1</td>\n",
       "    </tr>\n",
       "  </tbody>\n",
       "</table>\n",
       "<p>1129 rows × 2 columns</p>\n",
       "</div>"
      ],
      "text/plain": [
       "              City  Zip Code\n",
       "0           Acampo         1\n",
       "1            Acton         1\n",
       "2         Adelanto         1\n",
       "3             Adin         1\n",
       "4     Agoura Hills         1\n",
       "...            ...       ...\n",
       "1124         Yreka         1\n",
       "1125     Yuba City         2\n",
       "1126       Yucaipa         1\n",
       "1127  Yucca Valley         1\n",
       "1128         Zenia         1\n",
       "\n",
       "[1129 rows x 2 columns]"
      ]
     },
     "execution_count": 25,
     "metadata": {},
     "output_type": "execute_result"
    }
   ],
   "source": [
    "zipcodes"
   ]
  },
  {
   "cell_type": "code",
   "execution_count": 32,
   "id": "ffac967d-7a3c-4462-b2d2-6e8b22d01017",
   "metadata": {},
   "outputs": [],
   "source": [
    "zipcodes = zipcodes.sort_values(by=['Zip Code'],ascending=False)"
   ]
  },
  {
   "cell_type": "code",
   "execution_count": 33,
   "id": "26d53b05-c0c9-48f6-b234-23c9e4dbc8e0",
   "metadata": {},
   "outputs": [
    {
     "data": {
      "text/html": [
       "<div>\n",
       "<style scoped>\n",
       "    .dataframe tbody tr th:only-of-type {\n",
       "        vertical-align: middle;\n",
       "    }\n",
       "\n",
       "    .dataframe tbody tr th {\n",
       "        vertical-align: top;\n",
       "    }\n",
       "\n",
       "    .dataframe thead th {\n",
       "        text-align: right;\n",
       "    }\n",
       "</style>\n",
       "<table border=\"1\" class=\"dataframe\">\n",
       "  <thead>\n",
       "    <tr style=\"text-align: right;\">\n",
       "      <th></th>\n",
       "      <th>City</th>\n",
       "      <th>Zip Code</th>\n",
       "    </tr>\n",
       "  </thead>\n",
       "  <tbody>\n",
       "    <tr>\n",
       "      <th>562</th>\n",
       "      <td>Los Angeles</td>\n",
       "      <td>61</td>\n",
       "    </tr>\n",
       "    <tr>\n",
       "      <th>869</th>\n",
       "      <td>San Diego</td>\n",
       "      <td>30</td>\n",
       "    </tr>\n",
       "    <tr>\n",
       "      <th>878</th>\n",
       "      <td>San Jose</td>\n",
       "      <td>28</td>\n",
       "    </tr>\n",
       "    <tr>\n",
       "      <th>855</th>\n",
       "      <td>Sacramento</td>\n",
       "      <td>27</td>\n",
       "    </tr>\n",
       "    <tr>\n",
       "      <th>872</th>\n",
       "      <td>San Francisco</td>\n",
       "      <td>26</td>\n",
       "    </tr>\n",
       "  </tbody>\n",
       "</table>\n",
       "</div>"
      ],
      "text/plain": [
       "              City  Zip Code\n",
       "562    Los Angeles        61\n",
       "869      San Diego        30\n",
       "878       San Jose        28\n",
       "855     Sacramento        27\n",
       "872  San Francisco        26"
      ]
     },
     "execution_count": 33,
     "metadata": {},
     "output_type": "execute_result"
    }
   ],
   "source": [
    "zipcodes.head()"
   ]
  },
  {
   "cell_type": "code",
   "execution_count": 31,
   "id": "15d9d0a6-9600-4019-a6fe-76cb16a09a9f",
   "metadata": {},
   "outputs": [
    {
     "data": {
      "text/html": [
       "<div>\n",
       "<style scoped>\n",
       "    .dataframe tbody tr th:only-of-type {\n",
       "        vertical-align: middle;\n",
       "    }\n",
       "\n",
       "    .dataframe tbody tr th {\n",
       "        vertical-align: top;\n",
       "    }\n",
       "\n",
       "    .dataframe thead th {\n",
       "        text-align: right;\n",
       "    }\n",
       "</style>\n",
       "<table border=\"1\" class=\"dataframe\">\n",
       "  <thead>\n",
       "    <tr style=\"text-align: right;\">\n",
       "      <th></th>\n",
       "      <th>City</th>\n",
       "      <th>Zip Code</th>\n",
       "    </tr>\n",
       "  </thead>\n",
       "  <tbody>\n",
       "    <tr>\n",
       "      <th>1128</th>\n",
       "      <td>Zenia</td>\n",
       "      <td>1</td>\n",
       "    </tr>\n",
       "  </tbody>\n",
       "</table>\n",
       "</div>"
      ],
      "text/plain": [
       "       City  Zip Code\n",
       "1128  Zenia         1"
      ]
     },
     "execution_count": 31,
     "metadata": {},
     "output_type": "execute_result"
    }
   ],
   "source": [
    "zipcodes[zipcodes['City'] == 'Zenia']"
   ]
  },
  {
   "cell_type": "code",
   "execution_count": 19,
   "id": "81ba92e6-100d-492b-93e5-a6abb214c83f",
   "metadata": {},
   "outputs": [
    {
     "data": {
      "text/plain": [
       "1129"
      ]
     },
     "execution_count": 19,
     "metadata": {},
     "output_type": "execute_result"
    }
   ],
   "source": [
    "len(customers['City'].unique())"
   ]
  },
  {
   "cell_type": "code",
   "execution_count": 20,
   "id": "9b12bd26-9ec1-4c4a-9fa2-f8431a46f8e0",
   "metadata": {},
   "outputs": [
    {
     "data": {
      "text/plain": [
       "CustomerID                             3668-QPYBK\n",
       "Count                                           1\n",
       "Country                             United States\n",
       "State                                  California\n",
       "City                                  Los Angeles\n",
       "Zip Code                                    90003\n",
       "Lat Long                   33.964131, -118.272783\n",
       "Latitude                                33.964131\n",
       "Longitude                             -118.272783\n",
       "Gender                                       Male\n",
       "Senior Citizen                                 No\n",
       "Partner                                        No\n",
       "Dependents                                     No\n",
       "Tenure Months                                   2\n",
       "Phone Service                                 Yes\n",
       "Multiple Lines                                 No\n",
       "Internet Service                              DSL\n",
       "Online Security                               Yes\n",
       "Online Backup                                 Yes\n",
       "Device Protection                              No\n",
       "Tech Support                                   No\n",
       "Streaming TV                                   No\n",
       "Streaming Movies                               No\n",
       "Contract                           Month-to-month\n",
       "Paperless Billing                             Yes\n",
       "Payment Method                       Mailed check\n",
       "Monthly Charges                             53.85\n",
       "Total Charges                              108.15\n",
       "Churn Label                                   Yes\n",
       "Churn Value                                     1\n",
       "Churn Reason         Competitor made better offer\n",
       "Name: 0, dtype: object"
      ]
     },
     "execution_count": 20,
     "metadata": {},
     "output_type": "execute_result"
    }
   ],
   "source": [
    "customers.iloc[0]"
   ]
  },
  {
   "cell_type": "code",
   "execution_count": 21,
   "id": "45de1a0f-8263-4512-a2a5-df5f7034ce2d",
   "metadata": {},
   "outputs": [
    {
     "data": {
      "text/plain": [
       "{'Female', 'Male'}"
      ]
     },
     "execution_count": 21,
     "metadata": {},
     "output_type": "execute_result"
    }
   ],
   "source": [
    "set(customers['Gender'])"
   ]
  },
  {
   "cell_type": "code",
   "execution_count": 22,
   "id": "a30da2c9-0eb3-4863-aa27-45be819c2ddf",
   "metadata": {},
   "outputs": [
    {
     "data": {
      "text/plain": [
       "{'No', 'Yes'}"
      ]
     },
     "execution_count": 22,
     "metadata": {},
     "output_type": "execute_result"
    }
   ],
   "source": [
    "set(customers['Phone Service'])"
   ]
  },
  {
   "cell_type": "code",
   "execution_count": 5,
   "id": "37d1f1bf-d504-4366-b701-650a0490cb35",
   "metadata": {},
   "outputs": [
    {
     "data": {
      "text/plain": [
       "0"
      ]
     },
     "execution_count": 5,
     "metadata": {},
     "output_type": "execute_result"
    }
   ],
   "source": [
    "customers['Phone Service'].isnull().sum()"
   ]
  },
  {
   "cell_type": "code",
   "execution_count": 6,
   "id": "1721d1e5-1b84-437f-9a5f-8cb78a0f8f25",
   "metadata": {},
   "outputs": [
    {
     "data": {
      "text/plain": [
       "{'DSL', 'Fiber optic', 'No'}"
      ]
     },
     "execution_count": 6,
     "metadata": {},
     "output_type": "execute_result"
    }
   ],
   "source": [
    "# if they don't have internet, they won't have these!\n",
    "set(customers['Internet Service'])"
   ]
  },
  {
   "cell_type": "code",
   "execution_count": 7,
   "id": "4385f5ed-9dba-458b-bbd7-d04db9cb1085",
   "metadata": {},
   "outputs": [
    {
     "data": {
      "text/plain": [
       "{'No', 'No phone service', 'Yes'}"
      ]
     },
     "execution_count": 7,
     "metadata": {},
     "output_type": "execute_result"
    }
   ],
   "source": [
    "# there is only phone and internet so if they don't have phone service, they don't have multiple lines.\n",
    "set(customers['Multiple Lines'])"
   ]
  },
  {
   "cell_type": "code",
   "execution_count": 8,
   "id": "74a2b59c-665e-45c3-a4f2-0e57c28fa208",
   "metadata": {},
   "outputs": [
    {
     "data": {
      "text/plain": [
       "{'Attitude of service provider',\n",
       " 'Attitude of support person',\n",
       " 'Competitor had better devices',\n",
       " 'Competitor made better offer',\n",
       " 'Competitor offered higher download speeds',\n",
       " 'Competitor offered more data',\n",
       " 'Deceased',\n",
       " \"Don't know\",\n",
       " 'Extra data charges',\n",
       " 'Lack of affordable download/upload speed',\n",
       " 'Lack of self-service on Website',\n",
       " 'Limited range of services',\n",
       " 'Long distance charges',\n",
       " 'Moved',\n",
       " 'Network reliability',\n",
       " 'Poor expertise of online support',\n",
       " 'Poor expertise of phone support',\n",
       " 'Price too high',\n",
       " 'Product dissatisfaction',\n",
       " 'Service dissatisfaction',\n",
       " nan}"
      ]
     },
     "execution_count": 8,
     "metadata": {},
     "output_type": "execute_result"
    }
   ],
   "source": [
    "# we need a training set that balances these categories 50/50\n",
    "set(customers['Churn Reason'])"
   ]
  },
  {
   "cell_type": "code",
   "execution_count": 9,
   "id": "fec4aa85-4416-42be-bc5b-c91c72f0f905",
   "metadata": {},
   "outputs": [
    {
     "data": {
      "text/plain": [
       "0    5174\n",
       "1    1869\n",
       "Name: Churn Value, dtype: int64"
      ]
     },
     "execution_count": 9,
     "metadata": {},
     "output_type": "execute_result"
    }
   ],
   "source": [
    "#call for bootstrapping\n",
    "customers['Churn Value'].value_counts()"
   ]
  },
  {
   "cell_type": "code",
   "execution_count": 10,
   "id": "9b678d52-48ce-4696-9a93-d4ddd79871ac",
   "metadata": {},
   "outputs": [
    {
     "data": {
      "text/plain": [
       "Attitude of support person                   192\n",
       "Competitor offered higher download speeds    189\n",
       "Competitor offered more data                 162\n",
       "Don't know                                   154\n",
       "Competitor made better offer                 140\n",
       "Attitude of service provider                 135\n",
       "Competitor had better devices                130\n",
       "Network reliability                          103\n",
       "Product dissatisfaction                      102\n",
       "Price too high                                98\n",
       "Service dissatisfaction                       89\n",
       "Lack of self-service on Website               88\n",
       "Extra data charges                            57\n",
       "Moved                                         53\n",
       "Limited range of services                     44\n",
       "Long distance charges                         44\n",
       "Lack of affordable download/upload speed      44\n",
       "Poor expertise of phone support               20\n",
       "Poor expertise of online support              19\n",
       "Deceased                                       6\n",
       "Name: Churn Reason, dtype: int64"
      ]
     },
     "execution_count": 10,
     "metadata": {},
     "output_type": "execute_result"
    }
   ],
   "source": [
    "customers['Churn Reason'].value_counts()"
   ]
  },
  {
   "cell_type": "markdown",
   "id": "57fc641f-d223-4277-8792-1cacf4ee5b7f",
   "metadata": {},
   "source": [
    "Feature engineering\n",
    "- Remove customer ID for generating the model\n",
    "- State and Country is the same so can be removed\n",
    "- City is massive."
   ]
  },
  {
   "cell_type": "markdown",
   "id": "440fcf13-365f-4610-8156-929d307ff0b9",
   "metadata": {
    "tags": []
   },
   "source": [
    "## Log Reg"
   ]
  },
  {
   "cell_type": "code",
   "execution_count": 35,
   "id": "7d480be9-cc2a-40c3-aa26-4f28450a085a",
   "metadata": {},
   "outputs": [],
   "source": [
    "## Logistic Regression\n",
    "import pandas as pd, numpy as np, seaborn as sns, matplotlib.pyplot as plt\n",
    "from sklearn import metrics\n",
    "from sklearn.linear_model import LogisticRegression"
   ]
  },
  {
   "cell_type": "code",
   "execution_count": 36,
   "id": "a2a4abe9-6019-423a-8fc1-099954a1df63",
   "metadata": {},
   "outputs": [],
   "source": [
    "df = pd.read_csv(\"1 - Project Data.csv\")"
   ]
  },
  {
   "cell_type": "code",
   "execution_count": null,
   "id": "aa23c245-dc42-4a95-bd87-cb803e7339e9",
   "metadata": {},
   "outputs": [],
   "source": [
    "##Data Cleaning"
   ]
  },
  {
   "cell_type": "code",
   "execution_count": null,
   "id": "d904384d-f67b-4515-90fa-e6f2a18095df",
   "metadata": {},
   "outputs": [],
   "source": [
    "##Feature Engineering"
   ]
  },
  {
   "cell_type": "code",
   "execution_count": null,
   "id": "69c827b5-67f0-4f8f-917a-e8f4ac7e560d",
   "metadata": {},
   "outputs": [],
   "source": [
    "df_model = "
   ]
  },
  {
   "cell_type": "markdown",
   "id": "a69bf5a8-1e60-4ba4-b4f0-8364ed7b900c",
   "metadata": {},
   "source": [
    "#### Model Building"
   ]
  },
  {
   "cell_type": "code",
   "execution_count": null,
   "id": "05b00de6-399d-4f6b-b3ac-73dfa1423eea",
   "metadata": {},
   "outputs": [],
   "source": [
    "lr = LogisticRegression(max_iter=300, random_state=10)"
   ]
  },
  {
   "cell_type": "code",
   "execution_count": null,
   "id": "71e8cb4e-255c-4e81-8330-2c99742b6f01",
   "metadata": {},
   "outputs": [],
   "source": [
    "lr.fit(df_model, y)"
   ]
  },
  {
   "cell_type": "code",
   "execution_count": null,
   "id": "56482578-740d-4b2d-a9ab-44dfbba30265",
   "metadata": {},
   "outputs": [],
   "source": [
    "lr.predict_proba(df_model)"
   ]
  },
  {
   "cell_type": "code",
   "execution_count": null,
   "id": "be07cdb6-ed6d-4fdc-800e-06078b874e9b",
   "metadata": {},
   "outputs": [],
   "source": [
    "df_model[['??', '???']] = lr.predict_proba(df_model)"
   ]
  },
  {
   "cell_type": "code",
   "execution_count": null,
   "id": "07b749d5-3736-4b19-9d78-bfd5ea07afbe",
   "metadata": {},
   "outputs": [],
   "source": [
    "df_model = df[Features].copy()"
   ]
  },
  {
   "cell_type": "markdown",
   "id": "0499edad-81a8-4b8d-8dac-8dd54f5b2d09",
   "metadata": {},
   "source": [
    "### Performance"
   ]
  },
  {
   "cell_type": "code",
   "execution_count": null,
   "id": "d8a28b8f-f84d-4be0-96dd-0196088bab70",
   "metadata": {},
   "outputs": [],
   "source": [
    "print(metrics.confusion_matrix(y, df_model['y_pred']))"
   ]
  },
  {
   "cell_type": "code",
   "execution_count": 51,
   "id": "cdbe5a3c",
   "metadata": {},
   "outputs": [],
   "source": [
    "def get_results(actual, predicted):\n",
    "    print(\"The confusion matrix for your predictions is:\")\n",
    "    print(metrics.confusion_matrix(actual, predicted), \"\\n\")\n",
    "    print(f'The accuracy of your model is: {metrics.accuracy_score(actual, predicted)}')\n",
    "    print(f'The recall of your model is: {metrics.recall_score(actual, predicted)}')\n",
    "    print(f'The precision of your model is: {metrics.precision_score(actual, predicted)}')\n",
    "    print(f'The F1-score of your model is: {metrics.f1_score(actual, predicted)}')"
   ]
  },
  {
   "cell_type": "code",
   "execution_count": null,
   "id": "150f9e9a-93af-41a0-93c7-1cd3c876634a",
   "metadata": {},
   "outputs": [],
   "source": [
    "get_results(y, df_model['y_pred'])"
   ]
  }
 ],
 "metadata": {
  "kernelspec": {
   "display_name": "Python 3 (ipykernel)",
   "language": "python",
   "name": "python3"
  },
  "language_info": {
   "codemirror_mode": {
    "name": "ipython",
    "version": 3
   },
   "file_extension": ".py",
   "mimetype": "text/x-python",
   "name": "python",
   "nbconvert_exporter": "python",
   "pygments_lexer": "ipython3",
   "version": "3.9.7"
  }
 },
 "nbformat": 4,
 "nbformat_minor": 5
}
